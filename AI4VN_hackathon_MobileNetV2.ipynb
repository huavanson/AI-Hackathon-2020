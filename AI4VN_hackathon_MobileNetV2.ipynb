{
  "nbformat": 4,
  "nbformat_minor": 0,
  "metadata": {
    "accelerator": "GPU",
    "colab": {
      "name": "AI4VN hackathon MobileNetV2.ipynb",
      "provenance": [],
      "collapsed_sections": [],
      "include_colab_link": true
    },
    "kernelspec": {
      "display_name": "Python 3",
      "name": "python3"
    }
  },
  "cells": [
    {
      "cell_type": "markdown",
      "metadata": {
        "id": "view-in-github",
        "colab_type": "text"
      },
      "source": [
        "<a href=\"https://colab.research.google.com/github/luanvu2307/AI-Hackathon-2020/blob/main/AI4VN_hackathon_MobileNetV2.ipynb\" target=\"_parent\"><img src=\"https://colab.research.google.com/assets/colab-badge.svg\" alt=\"Open In Colab\"/></a>"
      ]
    },
    {
      "cell_type": "markdown",
      "metadata": {
        "id": "hRTa3Ee15WsJ"
      },
      "source": [
        "\n",
        "\n",
        "# Tổng quan\n",
        "\n",
        "Hướng dẫn này dựa trên hướng dẫn [Transfer learning and fine-tuning](https://www.tensorflow.org/tutorials/images/transfer_learning)"
      ]
    },
    {
      "cell_type": "code",
      "metadata": {
        "colab": {
          "base_uri": "https://localhost:8080/"
        },
        "id": "_lIG9nX1REp8",
        "outputId": "2e7be70f-b655-4cdb-f531-3fb08ff1a131"
      },
      "source": [
        "from google.colab import drive\n",
        "drive.mount('/content/drive')"
      ],
      "execution_count": null,
      "outputs": [
        {
          "output_type": "stream",
          "text": [
            "Mounted at /content/drive\n"
          ],
          "name": "stdout"
        }
      ]
    },
    {
      "cell_type": "code",
      "metadata": {
        "id": "Vecq8AWZVfmH",
        "colab": {
          "base_uri": "https://localhost:8080/"
        },
        "outputId": "b5fab5b1-c0f5-4ba3-eb66-d97037ecc5ee"
      },
      "source": [
        "! git clone https://github.com/hcmcaic/ai4vn-hackathon-2020.git ai4vn"
      ],
      "execution_count": null,
      "outputs": [
        {
          "output_type": "stream",
          "text": [
            "Cloning into 'ai4vn'...\n",
            "remote: Enumerating objects: 6, done.\u001b[K\n",
            "remote: Counting objects: 100% (6/6), done.\u001b[K\n",
            "remote: Compressing objects: 100% (4/4), done.\u001b[K\n",
            "remote: Total 20 (delta 2), reused 6 (delta 2), pack-reused 14\u001b[K\n",
            "Unpacking objects: 100% (20/20), done.\n"
          ],
          "name": "stdout"
        }
      ]
    },
    {
      "cell_type": "code",
      "metadata": {
        "id": "ycde9jVtWa42",
        "colab": {
          "base_uri": "https://localhost:8080/"
        },
        "outputId": "a299aedb-462f-4ff1-95dd-72ff3738661d"
      },
      "source": [
        "% cd ai4vn"
      ],
      "execution_count": null,
      "outputs": [
        {
          "output_type": "stream",
          "text": [
            "/content/ai4vn\n"
          ],
          "name": "stdout"
        }
      ]
    },
    {
      "cell_type": "code",
      "metadata": {
        "id": "TqOt6Sv7AsMi"
      },
      "source": [
        "import matplotlib.pyplot as plt\n",
        "import numpy as np\n",
        "import os\n",
        "import tensorflow as tf\n",
        "\n",
        "from dataloader import image_dataset_from_directory"
      ],
      "execution_count": null,
      "outputs": []
    },
    {
      "cell_type": "code",
      "metadata": {
        "id": "sZot8UP3GpHt",
        "colab": {
          "base_uri": "https://localhost:8080/"
        },
        "outputId": "f9b3676a-4ce9-45f1-b6dd-d2ac01c6fb36"
      },
      "source": [
        "!unzip ai4vn_2020.zip"
      ],
      "execution_count": null,
      "outputs": [
        {
          "output_type": "stream",
          "text": [
            "Archive:  ai4vn_2020.zip\n",
            "   creating: ai4vn_2020/\n",
            "   creating: ai4vn_2020/sample_data/\n",
            "   creating: ai4vn_2020/sample_data/1/\n",
            "  inflating: ai4vn_2020/sample_data/1/001500.jpg  \n",
            " extracting: ai4vn_2020/sample_data/1/001501.jpg  \n",
            "  inflating: ai4vn_2020/sample_data/1/001502.png  \n",
            "  inflating: ai4vn_2020/sample_data/1/001503.jpeg  \n",
            "  inflating: ai4vn_2020/sample_data/1/001504.jpg  \n",
            "  inflating: ai4vn_2020/sample_data/1/001505.jpg  \n",
            "  inflating: ai4vn_2020/sample_data/1/001506.jpg  \n",
            "  inflating: ai4vn_2020/sample_data/1/001507.jpg  \n",
            "  inflating: ai4vn_2020/sample_data/1/001508.jpg  \n",
            "  inflating: ai4vn_2020/sample_data/1/001509.jpg  \n",
            " extracting: ai4vn_2020/sample_data/1/001510.jpg  \n",
            " extracting: ai4vn_2020/sample_data/1/001511.png  \n",
            "  inflating: ai4vn_2020/sample_data/1/001512.jpg  \n",
            "  inflating: ai4vn_2020/sample_data/1/001513.png  \n",
            " extracting: ai4vn_2020/sample_data/1/001514.jpg  \n",
            "  inflating: ai4vn_2020/sample_data/1/001515.jpg  \n",
            "  inflating: ai4vn_2020/sample_data/1/001516.jpg  \n",
            " extracting: ai4vn_2020/sample_data/1/001517.jpg  \n",
            "  inflating: ai4vn_2020/sample_data/1/001518.png  \n",
            "  inflating: ai4vn_2020/sample_data/1/001519.jpg  \n",
            "  inflating: ai4vn_2020/sample_data/1/001520.jpg  \n",
            "  inflating: ai4vn_2020/sample_data/1/001521.jpg  \n",
            " extracting: ai4vn_2020/sample_data/1/001522.jpg  \n",
            "  inflating: ai4vn_2020/sample_data/1/001523.jpeg  \n",
            " extracting: ai4vn_2020/sample_data/1/001524.jpg  \n",
            " extracting: ai4vn_2020/sample_data/1/001525.png  \n",
            "  inflating: ai4vn_2020/sample_data/1/001526.jpg  \n",
            " extracting: ai4vn_2020/sample_data/1/001527.png  \n",
            "  inflating: ai4vn_2020/sample_data/1/001528.jpg  \n",
            "  inflating: ai4vn_2020/sample_data/1/001529.jpg  \n",
            "   creating: ai4vn_2020/sample_data/2/\n",
            "  inflating: ai4vn_2020/sample_data/2/002000.png  \n",
            "  inflating: ai4vn_2020/sample_data/2/002001.jpeg  \n",
            "  inflating: ai4vn_2020/sample_data/2/002002.jpeg  \n",
            "  inflating: ai4vn_2020/sample_data/2/002003.jpeg  \n",
            " extracting: ai4vn_2020/sample_data/2/002004.png  \n",
            "  inflating: ai4vn_2020/sample_data/2/002005.png  \n",
            "  inflating: ai4vn_2020/sample_data/2/002006.jpeg  \n",
            "  inflating: ai4vn_2020/sample_data/2/002007.jpeg  \n",
            " extracting: ai4vn_2020/sample_data/2/002008.png  \n",
            " extracting: ai4vn_2020/sample_data/2/002009.png  \n",
            " extracting: ai4vn_2020/sample_data/2/002010.png  \n",
            "  inflating: ai4vn_2020/sample_data/2/002011.jpeg  \n",
            " extracting: ai4vn_2020/sample_data/2/002012.png  \n",
            " extracting: ai4vn_2020/sample_data/2/002013.png  \n",
            "  inflating: ai4vn_2020/sample_data/2/002014.png  \n",
            "  inflating: ai4vn_2020/sample_data/2/002015.jpeg  \n",
            " extracting: ai4vn_2020/sample_data/2/002016.jpeg  \n",
            " extracting: ai4vn_2020/sample_data/2/002017.png  \n",
            " extracting: ai4vn_2020/sample_data/2/002018.jpeg  \n",
            " extracting: ai4vn_2020/sample_data/2/002019.png  \n",
            "  inflating: ai4vn_2020/sample_data/2/002020.jpeg  \n",
            "  inflating: ai4vn_2020/sample_data/2/002021.jpeg  \n",
            " extracting: ai4vn_2020/sample_data/2/002022.png  \n",
            "  inflating: ai4vn_2020/sample_data/2/002023.jpg  \n",
            "  inflating: ai4vn_2020/sample_data/2/002024.jpg  \n",
            "  inflating: ai4vn_2020/sample_data/2/002025.jpg  \n",
            "  inflating: ai4vn_2020/sample_data/2/002026.jpg  \n",
            "  inflating: ai4vn_2020/sample_data/2/002027.jpg  \n",
            "  inflating: ai4vn_2020/sample_data/2/002028.jpg  \n",
            "  inflating: ai4vn_2020/sample_data/2/002029.jpg  \n",
            "   creating: ai4vn_2020/sample_data/3/\n",
            " extracting: ai4vn_2020/sample_data/3/002500.png  \n",
            " extracting: ai4vn_2020/sample_data/3/002501.jpg  \n",
            "  inflating: ai4vn_2020/sample_data/3/002502.jpg  \n",
            " extracting: ai4vn_2020/sample_data/3/002503.png  \n",
            "  inflating: ai4vn_2020/sample_data/3/002504.jpeg  \n",
            "  inflating: ai4vn_2020/sample_data/3/002505.jpg  \n",
            "  inflating: ai4vn_2020/sample_data/3/002506.jpg  \n",
            " extracting: ai4vn_2020/sample_data/3/002507.png  \n",
            "  inflating: ai4vn_2020/sample_data/3/002508.JPG  \n",
            " extracting: ai4vn_2020/sample_data/3/002509.jpeg  \n",
            "  inflating: ai4vn_2020/sample_data/3/002510.jpg  \n",
            "  inflating: ai4vn_2020/sample_data/3/002511.jpg  \n",
            " extracting: ai4vn_2020/sample_data/3/002512.png  \n",
            " extracting: ai4vn_2020/sample_data/3/002513.png  \n",
            "  inflating: ai4vn_2020/sample_data/3/002514.jpg  \n",
            " extracting: ai4vn_2020/sample_data/3/002515.png  \n",
            "  inflating: ai4vn_2020/sample_data/3/002516.jpeg  \n",
            "  inflating: ai4vn_2020/sample_data/3/002517.jpeg  \n",
            "  inflating: ai4vn_2020/sample_data/3/002518.jpg  \n",
            "  inflating: ai4vn_2020/sample_data/3/002519.jpg  \n",
            " extracting: ai4vn_2020/sample_data/3/002520.jpg  \n",
            "  inflating: ai4vn_2020/sample_data/3/002521.png  \n",
            "  inflating: ai4vn_2020/sample_data/3/002522.jpg  \n",
            "  inflating: ai4vn_2020/sample_data/3/002523.jpg  \n",
            "  inflating: ai4vn_2020/sample_data/3/002524.jpg  \n",
            "  inflating: ai4vn_2020/sample_data/3/002525.jpeg  \n",
            "  inflating: ai4vn_2020/sample_data/3/002526.jpg  \n",
            " extracting: ai4vn_2020/sample_data/3/002527.jpg  \n",
            "  inflating: ai4vn_2020/sample_data/3/002528.jpg  \n",
            "  inflating: ai4vn_2020/sample_data/3/002529.jpg  \n",
            "   creating: ai4vn_2020/sample_data/4/\n",
            "  inflating: ai4vn_2020/sample_data/4/003000.jpg  \n",
            " extracting: ai4vn_2020/sample_data/4/003001.png  \n",
            "  inflating: ai4vn_2020/sample_data/4/003002.jpeg  \n",
            "  inflating: ai4vn_2020/sample_data/4/003003.jpg  \n",
            " extracting: ai4vn_2020/sample_data/4/003004.jpg  \n",
            "  inflating: ai4vn_2020/sample_data/4/003005.png  \n",
            "  inflating: ai4vn_2020/sample_data/4/003006.gif  \n",
            "  inflating: ai4vn_2020/sample_data/4/003007.jpg  \n",
            "  inflating: ai4vn_2020/sample_data/4/003008.jpg  \n",
            "  inflating: ai4vn_2020/sample_data/4/003009.jpg  \n",
            " extracting: ai4vn_2020/sample_data/4/003010.jpeg  \n",
            "  inflating: ai4vn_2020/sample_data/4/003011.jpg  \n",
            "  inflating: ai4vn_2020/sample_data/4/003012.jpg  \n",
            "  inflating: ai4vn_2020/sample_data/4/003013.gif  \n",
            "  inflating: ai4vn_2020/sample_data/4/003014.png  \n",
            "  inflating: ai4vn_2020/sample_data/4/003015.png  \n",
            "  inflating: ai4vn_2020/sample_data/4/003016.jpeg  \n",
            "  inflating: ai4vn_2020/sample_data/4/003017.png  \n",
            "  inflating: ai4vn_2020/sample_data/4/003018.jpeg  \n",
            "  inflating: ai4vn_2020/sample_data/4/003019.png  \n",
            "  inflating: ai4vn_2020/sample_data/4/003020.jpeg  \n",
            "  inflating: ai4vn_2020/sample_data/4/003021.gif  \n",
            "  inflating: ai4vn_2020/sample_data/4/003022.jpg  \n",
            "  inflating: ai4vn_2020/sample_data/4/003023.jpg  \n",
            "  inflating: ai4vn_2020/sample_data/4/003024.jpg  \n",
            "  inflating: ai4vn_2020/sample_data/4/003025.jpg  \n",
            "  inflating: ai4vn_2020/sample_data/4/003026.jpg  \n",
            "  inflating: ai4vn_2020/sample_data/4/003027.jpg  \n",
            "  inflating: ai4vn_2020/sample_data/4/003028.jpg  \n",
            "  inflating: ai4vn_2020/sample_data/4/003029.jpg  \n",
            "   creating: ai4vn_2020/sample_data/5/\n",
            "  inflating: ai4vn_2020/sample_data/5/003500.jpeg  \n",
            "  inflating: ai4vn_2020/sample_data/5/003501.jpg  \n",
            "  inflating: ai4vn_2020/sample_data/5/003502.jpg  \n",
            "  inflating: ai4vn_2020/sample_data/5/003503.jpg  \n",
            " extracting: ai4vn_2020/sample_data/5/003504.png  \n",
            "  inflating: ai4vn_2020/sample_data/5/003505.jpg  \n",
            "  inflating: ai4vn_2020/sample_data/5/003506.jpeg  \n",
            "  inflating: ai4vn_2020/sample_data/5/003507.jpg  \n",
            " extracting: ai4vn_2020/sample_data/5/003508.jpg  \n",
            " extracting: ai4vn_2020/sample_data/5/003509.jpg  \n",
            "  inflating: ai4vn_2020/sample_data/5/003510.jpg  \n",
            "  inflating: ai4vn_2020/sample_data/5/003511.jpg  \n",
            "  inflating: ai4vn_2020/sample_data/5/003512.jpeg  \n",
            "  inflating: ai4vn_2020/sample_data/5/003513.jpg  \n",
            "  inflating: ai4vn_2020/sample_data/5/003514.jpg  \n",
            " extracting: ai4vn_2020/sample_data/5/003515.jpg  \n",
            " extracting: ai4vn_2020/sample_data/5/003516.jpeg  \n",
            "  inflating: ai4vn_2020/sample_data/5/003517.jpg  \n",
            " extracting: ai4vn_2020/sample_data/5/003518.jpg  \n",
            "  inflating: ai4vn_2020/sample_data/5/003519.jpg  \n",
            "  inflating: ai4vn_2020/sample_data/5/003520.jpg  \n",
            " extracting: ai4vn_2020/sample_data/5/003521.JPG  \n",
            " extracting: ai4vn_2020/sample_data/5/003522.PNG  \n",
            "  inflating: ai4vn_2020/sample_data/5/003523.jpg  \n",
            " extracting: ai4vn_2020/sample_data/5/003524.jpg  \n",
            "  inflating: ai4vn_2020/sample_data/5/003525.jpg  \n",
            " extracting: ai4vn_2020/sample_data/5/003526.jpg  \n",
            "  inflating: ai4vn_2020/sample_data/5/003527.jpg  \n",
            "  inflating: ai4vn_2020/sample_data/5/003528.jpg  \n",
            " extracting: ai4vn_2020/sample_data/5/003529.jpg  \n",
            "   creating: ai4vn_2020/sample_data/6/\n",
            "  inflating: ai4vn_2020/sample_data/6/004000.jpg  \n",
            "  inflating: ai4vn_2020/sample_data/6/004001.jpg  \n",
            "  inflating: ai4vn_2020/sample_data/6/004002.jpg  \n",
            "  inflating: ai4vn_2020/sample_data/6/004003.jpg  \n",
            "  inflating: ai4vn_2020/sample_data/6/004004.jpg  \n",
            "  inflating: ai4vn_2020/sample_data/6/004005.jpg  \n",
            "  inflating: ai4vn_2020/sample_data/6/004006.jpg  \n",
            "  inflating: ai4vn_2020/sample_data/6/004007.jpg  \n",
            " extracting: ai4vn_2020/sample_data/6/004008.jpg  \n",
            "  inflating: ai4vn_2020/sample_data/6/004009.jpg  \n",
            "  inflating: ai4vn_2020/sample_data/6/004010.jpg  \n",
            "  inflating: ai4vn_2020/sample_data/6/004011.jpg  \n",
            "  inflating: ai4vn_2020/sample_data/6/004012.jpg  \n",
            "  inflating: ai4vn_2020/sample_data/6/004013.jpg  \n",
            "  inflating: ai4vn_2020/sample_data/6/004014.jpg  \n",
            " extracting: ai4vn_2020/sample_data/6/004015.jpg  \n",
            " extracting: ai4vn_2020/sample_data/6/004016.jpg  \n",
            " extracting: ai4vn_2020/sample_data/6/004017.jpg  \n",
            " extracting: ai4vn_2020/sample_data/6/004018.jpg  \n",
            " extracting: ai4vn_2020/sample_data/6/004019.jpg  \n",
            "  inflating: ai4vn_2020/sample_data/6/004020.jpg  \n",
            "  inflating: ai4vn_2020/sample_data/6/004021.jpg  \n",
            "  inflating: ai4vn_2020/sample_data/6/004022.jpg  \n",
            "  inflating: ai4vn_2020/sample_data/6/004023.jpg  \n",
            "  inflating: ai4vn_2020/sample_data/6/004024.jpg  \n",
            "  inflating: ai4vn_2020/sample_data/6/004025.jpg  \n",
            "  inflating: ai4vn_2020/sample_data/6/004026.jpg  \n",
            "  inflating: ai4vn_2020/sample_data/6/004027.jpg  \n",
            "  inflating: ai4vn_2020/sample_data/6/004028.jpg  \n",
            "  inflating: ai4vn_2020/sample_data/6/004029.jpg  \n",
            "   creating: ai4vn_2020/sample_data/7/\n",
            "  inflating: ai4vn_2020/sample_data/7/004500.jpg  \n",
            "  inflating: ai4vn_2020/sample_data/7/004501.jpg  \n",
            "  inflating: ai4vn_2020/sample_data/7/004502.jpg  \n",
            "  inflating: ai4vn_2020/sample_data/7/004503.png  \n",
            "  inflating: ai4vn_2020/sample_data/7/004504.jpeg  \n",
            "  inflating: ai4vn_2020/sample_data/7/004505.jpg  \n",
            " extracting: ai4vn_2020/sample_data/7/004506.jpg  \n",
            "  inflating: ai4vn_2020/sample_data/7/004507.jpg  \n",
            "  inflating: ai4vn_2020/sample_data/7/004508.jpg  \n",
            "  inflating: ai4vn_2020/sample_data/7/004509.jpg  \n",
            "  inflating: ai4vn_2020/sample_data/7/004510.jpg  \n",
            "  inflating: ai4vn_2020/sample_data/7/004511.jpg  \n",
            "  inflating: ai4vn_2020/sample_data/7/004512.png  \n",
            "  inflating: ai4vn_2020/sample_data/7/004513.jpg  \n",
            " extracting: ai4vn_2020/sample_data/7/004514.png  \n",
            "  inflating: ai4vn_2020/sample_data/7/004515.jpg  \n",
            "  inflating: ai4vn_2020/sample_data/7/004516.jpeg  \n",
            " extracting: ai4vn_2020/sample_data/7/004517.png  \n",
            "  inflating: ai4vn_2020/sample_data/7/004518.jpg  \n",
            "  inflating: ai4vn_2020/sample_data/7/004519.jpg  \n",
            "  inflating: ai4vn_2020/sample_data/7/004520.jpeg  \n",
            "  inflating: ai4vn_2020/sample_data/7/004521.png  \n",
            "  inflating: ai4vn_2020/sample_data/7/004522.jpg  \n",
            " extracting: ai4vn_2020/sample_data/7/004523.png  \n",
            "  inflating: ai4vn_2020/sample_data/7/004524.jpg  \n",
            "  inflating: ai4vn_2020/sample_data/7/004525.jpg  \n",
            "  inflating: ai4vn_2020/sample_data/7/004526.jpg  \n",
            " extracting: ai4vn_2020/sample_data/7/004527.jpg  \n",
            "  inflating: ai4vn_2020/sample_data/7/004528.jpg  \n",
            " extracting: ai4vn_2020/sample_data/7/004529.png  \n",
            "   creating: ai4vn_2020/test_data/\n",
            "  inflating: ai4vn_2020/test_data/00004.jpg  \n",
            "  inflating: ai4vn_2020/test_data/00010.jpg  \n",
            "  inflating: ai4vn_2020/test_data/00012.jpg  \n",
            "  inflating: ai4vn_2020/test_data/00018.jpg  \n",
            "  inflating: ai4vn_2020/test_data/00022.jpg  \n",
            "  inflating: ai4vn_2020/test_data/00023.jpg  \n",
            "  inflating: ai4vn_2020/test_data/00027.jpg  \n",
            "  inflating: ai4vn_2020/test_data/00035.jpg  \n",
            "  inflating: ai4vn_2020/test_data/00039.jpg  \n",
            "  inflating: ai4vn_2020/test_data/00042.jpg  \n",
            "  inflating: ai4vn_2020/test_data/00045.jpg  \n",
            "  inflating: ai4vn_2020/test_data/00048.jpg  \n",
            "  inflating: ai4vn_2020/test_data/00051.jpg  \n",
            "  inflating: ai4vn_2020/test_data/00060.jpg  \n",
            "  inflating: ai4vn_2020/test_data/00064.jpg  \n",
            "  inflating: ai4vn_2020/test_data/00067.jpg  \n",
            "  inflating: ai4vn_2020/test_data/00069.jpg  \n",
            "  inflating: ai4vn_2020/test_data/00073.jpg  \n",
            "  inflating: ai4vn_2020/test_data/00085.jpg  \n",
            "  inflating: ai4vn_2020/test_data/00094.jpg  \n"
          ],
          "name": "stdout"
        }
      ]
    },
    {
      "cell_type": "markdown",
      "metadata": {
        "id": "kNze02uTRGtr"
      },
      "source": [
        ""
      ]
    },
    {
      "cell_type": "markdown",
      "metadata": {
        "id": "v77rlkCKW0IJ"
      },
      "source": [
        "## Tiền xử lý dữ liệu"
      ]
    },
    {
      "cell_type": "markdown",
      "metadata": {
        "id": "0GoKGm1duzgk"
      },
      "source": [
        "### Tải dữ liệu"
      ]
    },
    {
      "cell_type": "code",
      "metadata": {
        "id": "j8bSXJfaYDub"
      },
      "source": [
        "# move test_data to test folder to use image_dataset_from_directory function\n",
        "! mkdir ai4vn_2020/test && mv ai4vn_2020/test_data ai4vn_2020/test"
      ],
      "execution_count": null,
      "outputs": []
    },
    {
      "cell_type": "code",
      "metadata": {
        "id": "ro4oYaEmxe4r",
        "colab": {
          "base_uri": "https://localhost:8080/"
        },
        "outputId": "a30d3882-7ba8-46da-e2df-9ea63d43c845"
      },
      "source": [
        "# ! unzip sample_data.zip\n",
        "\n",
        "path_to_data = 'ai4vn_2020/sample_data'\n",
        "\n",
        "\n",
        "BATCH_SIZE = 10\n",
        "IMG_SIZE = (160, 160)\n",
        "\n",
        "NUM_CLASS = 7\n",
        "\n",
        "train_dataset, train_dataset_filenames = image_dataset_from_directory(path_to_data,\n",
        "                                             validation_split=0.2,\n",
        "                                             subset=\"training\",\n",
        "                                             shuffle=True,\n",
        "                                             seed=505,\n",
        "                                             batch_size=BATCH_SIZE,\n",
        "                                             image_size=IMG_SIZE)"
      ],
      "execution_count": null,
      "outputs": [
        {
          "output_type": "stream",
          "text": [
            "Found 210 files belonging to 7 classes.\n",
            "Using 168 files for training.\n"
          ],
          "name": "stdout"
        }
      ]
    },
    {
      "cell_type": "code",
      "metadata": {
        "id": "cAvtLwi7_J__",
        "colab": {
          "base_uri": "https://localhost:8080/"
        },
        "outputId": "057e3936-98fb-4ffb-dfc4-f9ce614f4d57"
      },
      "source": [
        "validation_dataset, validation_dataset_filenames = image_dataset_from_directory(path_to_data,\n",
        "                                                  validation_split=0.2,\n",
        "                                                  subset=\"training\",\n",
        "                                                  shuffle=True,\n",
        "                                                  seed=505,\n",
        "                                                  batch_size=BATCH_SIZE,\n",
        "                                                  image_size=IMG_SIZE)"
      ],
      "execution_count": null,
      "outputs": [
        {
          "output_type": "stream",
          "text": [
            "Found 210 files belonging to 7 classes.\n",
            "Using 168 files for training.\n"
          ],
          "name": "stdout"
        }
      ]
    },
    {
      "cell_type": "code",
      "metadata": {
        "id": "s3MxDN4WYjZu",
        "colab": {
          "base_uri": "https://localhost:8080/"
        },
        "outputId": "4f6966e4-feae-4f70-8bf3-7c550165e4d1"
      },
      "source": [
        "test_dataset, test_dataset_filenames = image_dataset_from_directory('ai4vn_2020/test',\n",
        "                                                  shuffle=True,\n",
        "                                                  batch_size=BATCH_SIZE,\n",
        "                                                  image_size=IMG_SIZE)"
      ],
      "execution_count": null,
      "outputs": [
        {
          "output_type": "stream",
          "text": [
            "Found 20 files belonging to 1 classes.\n"
          ],
          "name": "stdout"
        }
      ]
    },
    {
      "cell_type": "code",
      "metadata": {
        "colab": {
          "base_uri": "https://localhost:8080/"
        },
        "id": "Az7woXN2Vf7J",
        "outputId": "c757f0cd-efe2-4e42-d65c-170c09059e05"
      },
      "source": [
        "type(test_dataset_filenames)"
      ],
      "execution_count": null,
      "outputs": [
        {
          "output_type": "execute_result",
          "data": {
            "text/plain": [
              "list"
            ]
          },
          "metadata": {
            "tags": []
          },
          "execution_count": 16
        }
      ]
    },
    {
      "cell_type": "code",
      "metadata": {
        "id": "wjSkIb-QGJGa"
      },
      "source": [
        "validation_dataset.class_names"
      ],
      "execution_count": null,
      "outputs": []
    },
    {
      "cell_type": "markdown",
      "metadata": {
        "id": "yO1Q2JaW5sIy"
      },
      "source": [
        "Hiển thị 9 hình ảnh và nhãn đầu tiên từ bộ huấn luyện:"
      ]
    },
    {
      "cell_type": "code",
      "metadata": {
        "id": "K5BeQyKThC_Y"
      },
      "source": [
        "class_names = train_dataset.class_names\n",
        "\n",
        "plt.figure(figsize=(10, 10))\n",
        "for images, labels in train_dataset.take(1):\n",
        "  for i in range(9):\n",
        "    ax = plt.subplot(3, 3, i + 1)\n",
        "    plt.imshow(images[i].numpy().astype(\"uint8\"))\n",
        "    plt.title(class_names[labels[i]])\n",
        "    plt.axis(\"off\")"
      ],
      "execution_count": null,
      "outputs": []
    },
    {
      "cell_type": "markdown",
      "metadata": {
        "id": "MakSrdd--RKg"
      },
      "source": [
        "### Định cấu hình cho tập dữ liệu"
      ]
    },
    {
      "cell_type": "markdown",
      "metadata": {
        "id": "22XWC7yjkZu4"
      },
      "source": [
        "Use buffered prefetching to load images from disk without having I/O become blocking. To learn more about this method see the [data performance](https://www.tensorflow.org/guide/data_performance) guide."
      ]
    },
    {
      "cell_type": "code",
      "metadata": {
        "id": "p3UUPdm86LNC"
      },
      "source": [
        "AUTOTUNE = tf.data.experimental.AUTOTUNE\n",
        "\n",
        "train_dataset = train_dataset.prefetch(buffer_size=AUTOTUNE)\n",
        "validation_dataset = validation_dataset.prefetch(buffer_size=AUTOTUNE)"
      ],
      "execution_count": null,
      "outputs": []
    },
    {
      "cell_type": "markdown",
      "metadata": {
        "id": "MYfcVwYLiR98"
      },
      "source": [
        "\n",
        "\n",
        "### Sử dụng tăng cường dữ liệu"
      ]
    },
    {
      "cell_type": "markdown",
      "metadata": {
        "id": "bDWc5Oad1daX"
      },
      "source": [
        "Khi dữ liệu ảnh không đủ lớn, bạn có thể tăng tính đa dạng của các mẫu dữ liệu bằng cách áp các phép biến đổi ngẫu nhiên. Điều này giúp giảm [overfitting](https://www.tensorflow.org/tutorials/keras/overfit_and_underfit). Bạn có thể tìm hiểu thêm về tăng dữ liệu trong [hướng dẫn](https://www.tensorflow.org/tutorials/images/data_augmentation) này."
      ]
    },
    {
      "cell_type": "code",
      "metadata": {
        "id": "emc1QYPi37ca"
      },
      "source": [
        ""
      ],
      "execution_count": null,
      "outputs": []
    },
    {
      "cell_type": "code",
      "metadata": {
        "id": "3P99QiMGit1A"
      },
      "source": [
        "data_augmentation = tf.keras.Sequential([\n",
        "  tf.keras.layers.experimental.preprocessing.RandomFlip('horizontal'),\n",
        "  tf.keras.layers.experimental.preprocessing.RandomRotation(0.2),\n",
        "])"
      ],
      "execution_count": null,
      "outputs": []
    },
    {
      "cell_type": "markdown",
      "metadata": {
        "id": "9mD3rE2Lm7-d"
      },
      "source": [
        "Dưới đây là kết quả của việc tăng cường dữ liệu trên một tấm ảnh."
      ]
    },
    {
      "cell_type": "code",
      "metadata": {
        "id": "aQullOUHkm67"
      },
      "source": [
        "for image, _ in train_dataset.take(1):\n",
        "  plt.figure(figsize=(10, 10))\n",
        "  first_image = image[0]\n",
        "  for i in range(9):\n",
        "    ax = plt.subplot(3, 3, i + 1)\n",
        "    augmented_image = data_augmentation(tf.expand_dims(first_image, 0))\n",
        "    plt.imshow(augmented_image[0] / 255)\n",
        "    plt.axis('off')"
      ],
      "execution_count": null,
      "outputs": []
    },
    {
      "cell_type": "markdown",
      "metadata": {
        "id": "bAywKtuVn8uK"
      },
      "source": [
        "### Rescale pixel values\n",
        "Trong ví dụ này, ta sử dụng mô hình cơ sở tf.keras.applications.MobileNetV2. Mô hình này sử dụng giá trị điểm ảnh trong đoạn `[-1,1]` nhưng giá trị ảnh hiện tại đang trong đoạn `[0-255]`. Vì thế ta cần chuẩn hóa lại miền giá trị điểm ảnh."
      ]
    },
    {
      "cell_type": "code",
      "metadata": {
        "id": "cO0HM9JAQUFq"
      },
      "source": [
        "preprocess_input = tf.keras.applications.mobilenet_v2.preprocess_input"
      ],
      "execution_count": null,
      "outputs": []
    },
    {
      "cell_type": "code",
      "metadata": {
        "id": "R2NyJn4KQMux"
      },
      "source": [
        "rescale = tf.keras.layers.experimental.preprocessing.Rescaling(1./127.5, offset= -1)"
      ],
      "execution_count": null,
      "outputs": []
    },
    {
      "cell_type": "markdown",
      "metadata": {
        "id": "OkH-kazQecHB"
      },
      "source": [
        "\n",
        "## Create the base model from the pre-trained convnets\n"
      ]
    },
    {
      "cell_type": "code",
      "metadata": {
        "id": "19IQ2gqneqmS"
      },
      "source": [
        "# Create the base model from the pre-trained model MobileNet V2\n",
        "IMG_SHAPE = IMG_SIZE + (3,)\n",
        "base_model = tf.keras.applications.MobileNetV2(input_shape=IMG_SHAPE,\n",
        "                                               include_top=False,\n",
        "                                               weights='imagenet')"
      ],
      "execution_count": null,
      "outputs": []
    },
    {
      "cell_type": "markdown",
      "metadata": {
        "id": "AqcsxoJIEVXZ"
      },
      "source": [
        "\n",
        "Mô hình trích xuất đặc trưng này nhận tấm ảnh với kích thước `160x160x3` chuyển thành đặc trưng `5x5x1280`"
      ]
    },
    {
      "cell_type": "code",
      "metadata": {
        "id": "Y-2LJL0EEUcx"
      },
      "source": [
        "image_batch, label_batch = next(iter(train_dataset))\n",
        "feature_batch = base_model(image_batch)\n",
        "print(feature_batch.shape)"
      ],
      "execution_count": null,
      "outputs": []
    },
    {
      "cell_type": "markdown",
      "metadata": {
        "id": "rlx56nQtfe8Y"
      },
      "source": [
        "## Feature extraction"
      ]
    },
    {
      "cell_type": "markdown",
      "metadata": {
        "id": "CnMLieHBCwil"
      },
      "source": [
        "### Freeze the convolutional base"
      ]
    },
    {
      "cell_type": "code",
      "metadata": {
        "id": "OTCJH4bphOeo"
      },
      "source": [
        "base_model.trainable = False"
      ],
      "execution_count": null,
      "outputs": []
    },
    {
      "cell_type": "code",
      "metadata": {
        "id": "KpbzSmPkDa-N"
      },
      "source": [
        "# Let's take a look at the base model architecture\n",
        "base_model.summary()"
      ],
      "execution_count": null,
      "outputs": []
    },
    {
      "cell_type": "markdown",
      "metadata": {
        "id": "wdMRM8YModbk"
      },
      "source": [
        "### Add a classification head"
      ]
    },
    {
      "cell_type": "code",
      "metadata": {
        "id": "dLnpMF5KOALm"
      },
      "source": [
        "global_average_layer = tf.keras.layers.GlobalAveragePooling2D()\n",
        "feature_batch_average = global_average_layer(feature_batch)\n",
        "print(feature_batch_average.shape)"
      ],
      "execution_count": null,
      "outputs": []
    },
    {
      "cell_type": "code",
      "metadata": {
        "id": "Wv4afXKj6cVa"
      },
      "source": [
        "prediction_layer = tf.keras.layers.Dense(NUM_CLASS)\n",
        "prediction_batch = prediction_layer(feature_batch_average)\n",
        "print(prediction_batch.shape)"
      ],
      "execution_count": null,
      "outputs": []
    },
    {
      "cell_type": "code",
      "metadata": {
        "id": "DgzQX6Veb2WT"
      },
      "source": [
        "inputs = tf.keras.Input(shape=(160, 160, 3))\n",
        "x = data_augmentation(inputs)\n",
        "x = preprocess_input(x)\n",
        "x = base_model(x, training=False)\n",
        "x = global_average_layer(x)\n",
        "x = tf.keras.layers.Dropout(0.2)(x)\n",
        "outputs = prediction_layer(x)\n",
        "model = tf.keras.Model(inputs, outputs)"
      ],
      "execution_count": null,
      "outputs": []
    },
    {
      "cell_type": "markdown",
      "metadata": {
        "id": "g0ylJXE_kRLi"
      },
      "source": [
        "### Compile the model\n"
      ]
    },
    {
      "cell_type": "code",
      "metadata": {
        "id": "RpR8HdyMhukJ"
      },
      "source": [
        "base_learning_rate = 0.0001\n",
        "model.compile(optimizer=tf.keras.optimizers.Adam(lr=base_learning_rate),\n",
        "              loss=tf.keras.losses.SparseCategoricalCrossentropy(from_logits=True),\n",
        "              metrics=['accuracy'])"
      ],
      "execution_count": null,
      "outputs": []
    },
    {
      "cell_type": "code",
      "metadata": {
        "id": "I8ARiyMFsgbH"
      },
      "source": [
        "model.summary()"
      ],
      "execution_count": null,
      "outputs": []
    },
    {
      "cell_type": "code",
      "metadata": {
        "id": "krvBumovycVA"
      },
      "source": [
        "len(model.trainable_variables)"
      ],
      "execution_count": null,
      "outputs": []
    },
    {
      "cell_type": "markdown",
      "metadata": {
        "id": "RxvgOYTDSWTx"
      },
      "source": [
        "### Train the model\n"
      ]
    },
    {
      "cell_type": "code",
      "metadata": {
        "id": "Om4O3EESkab1"
      },
      "source": [
        "initial_epochs = 10\n",
        "\n",
        "loss0, accuracy0 = model.evaluate(validation_dataset)"
      ],
      "execution_count": null,
      "outputs": []
    },
    {
      "cell_type": "code",
      "metadata": {
        "id": "8cYT1c48CuSd"
      },
      "source": [
        "print(\"initial loss: {:.2f}\".format(loss0))\n",
        "print(\"initial accuracy: {:.2f}\".format(accuracy0))"
      ],
      "execution_count": null,
      "outputs": []
    },
    {
      "cell_type": "code",
      "metadata": {
        "id": "JsaRFlZ9B6WK"
      },
      "source": [
        "history = model.fit(train_dataset,\n",
        "                    epochs=initial_epochs,\n",
        "                    validation_data=validation_dataset)"
      ],
      "execution_count": null,
      "outputs": []
    },
    {
      "cell_type": "markdown",
      "metadata": {
        "id": "Hd94CKImf8vi"
      },
      "source": [
        "### Learning curves\n"
      ]
    },
    {
      "cell_type": "code",
      "metadata": {
        "id": "53OTCh3jnbwV"
      },
      "source": [
        "acc = history.history['accuracy']\n",
        "val_acc = history.history['val_accuracy']\n",
        "\n",
        "loss = history.history['loss']\n",
        "val_loss = history.history['val_loss']\n",
        "\n",
        "plt.figure(figsize=(8, 8))\n",
        "plt.subplot(2, 1, 1)\n",
        "plt.plot(acc, label='Training Accuracy')\n",
        "plt.plot(val_acc, label='Validation Accuracy')\n",
        "plt.legend(loc='lower right')\n",
        "plt.ylabel('Accuracy')\n",
        "plt.title('Training and Validation Accuracy')\n",
        "\n",
        "plt.subplot(2, 1, 2)\n",
        "plt.plot(loss, label='Training Loss')\n",
        "plt.plot(val_loss, label='Validation Loss')\n",
        "plt.legend(loc='upper right')\n",
        "plt.ylabel('Cross Entropy')\n",
        "plt.title('Training and Validation Loss')\n",
        "plt.xlabel('epoch')\n",
        "plt.show()"
      ],
      "execution_count": null,
      "outputs": []
    },
    {
      "cell_type": "markdown",
      "metadata": {
        "id": "CqwV-CRdS6Nv"
      },
      "source": [
        "## Fine tuning\n"
      ]
    },
    {
      "cell_type": "markdown",
      "metadata": {
        "id": "CPXnzUK0QonF"
      },
      "source": [
        "### Un-freeze the top layers of the model\n"
      ]
    },
    {
      "cell_type": "code",
      "metadata": {
        "id": "4nzcagVitLQm"
      },
      "source": [
        "base_model.trainable = True"
      ],
      "execution_count": null,
      "outputs": []
    },
    {
      "cell_type": "code",
      "metadata": {
        "id": "-4HgVAacRs5v"
      },
      "source": [
        "# Let's take a look to see how many layers are in the base model\n",
        "print(\"Number of layers in the base model: \", len(base_model.layers))\n",
        "\n",
        "# Fine-tune from this layer onwards\n",
        "fine_tune_at = 100\n",
        "\n",
        "# Freeze all the layers before the `fine_tune_at` layer\n",
        "for layer in base_model.layers[:fine_tune_at]:\n",
        "  layer.trainable =  False"
      ],
      "execution_count": null,
      "outputs": []
    },
    {
      "cell_type": "markdown",
      "metadata": {
        "id": "4Uk1dgsxT0IS"
      },
      "source": [
        "### Compile the model\n",
        "\n"
      ]
    },
    {
      "cell_type": "code",
      "metadata": {
        "id": "NtUnaz0WUDva"
      },
      "source": [
        "model.compile(loss=tf.keras.losses.SparseCategoricalCrossentropy(from_logits=True),\n",
        "              optimizer = tf.keras.optimizers.RMSprop(lr=base_learning_rate/10),\n",
        "              metrics=['accuracy'])"
      ],
      "execution_count": null,
      "outputs": []
    },
    {
      "cell_type": "code",
      "metadata": {
        "id": "WwBWy7J2kZvA"
      },
      "source": [
        "model.summary()"
      ],
      "execution_count": null,
      "outputs": []
    },
    {
      "cell_type": "code",
      "metadata": {
        "id": "bNXelbMQtonr"
      },
      "source": [
        "len(model.trainable_variables)"
      ],
      "execution_count": null,
      "outputs": []
    },
    {
      "cell_type": "markdown",
      "metadata": {
        "id": "4G5O4jd6TuAG"
      },
      "source": [
        "### Continue training the model"
      ]
    },
    {
      "cell_type": "code",
      "metadata": {
        "id": "ECQLkAsFTlun"
      },
      "source": [
        "fine_tune_epochs = 10\n",
        "total_epochs =  initial_epochs + fine_tune_epochs\n",
        "\n",
        "history_fine = model.fit(train_dataset,\n",
        "                         epochs=total_epochs,\n",
        "                         initial_epoch=history.epoch[-1],\n",
        "                         validation_data=validation_dataset)"
      ],
      "execution_count": null,
      "outputs": []
    },
    {
      "cell_type": "code",
      "metadata": {
        "id": "PpA8PlpQKygw"
      },
      "source": [
        "acc += history_fine.history['accuracy']\n",
        "val_acc += history_fine.history['val_accuracy']\n",
        "\n",
        "loss += history_fine.history['loss']\n",
        "val_loss += history_fine.history['val_loss']"
      ],
      "execution_count": null,
      "outputs": []
    },
    {
      "cell_type": "code",
      "metadata": {
        "id": "chW103JUItdk"
      },
      "source": [
        "plt.figure(figsize=(8, 8))\n",
        "plt.subplot(2, 1, 1)\n",
        "plt.plot(acc, label='Training Accuracy')\n",
        "plt.plot(val_acc, label='Validation Accuracy')\n",
        "plt.plot([initial_epochs-1,initial_epochs-1],\n",
        "          plt.ylim(), label='Start Fine Tuning')\n",
        "plt.legend(loc='lower right')\n",
        "plt.title('Training and Validation Accuracy')\n",
        "\n",
        "plt.subplot(2, 1, 2)\n",
        "plt.plot(loss, label='Training Loss')\n",
        "plt.plot(val_loss, label='Validation Loss')\n",
        "plt.plot([initial_epochs-1,initial_epochs-1],\n",
        "         plt.ylim(), label='Start Fine Tuning')\n",
        "plt.legend(loc='upper right')\n",
        "plt.title('Training and Validation Loss')\n",
        "plt.xlabel('epoch')\n",
        "plt.show()"
      ],
      "execution_count": null,
      "outputs": []
    },
    {
      "cell_type": "markdown",
      "metadata": {
        "id": "R6cWgjgfrsn5"
      },
      "source": [
        "### Evaluation and prediction"
      ]
    },
    {
      "cell_type": "code",
      "metadata": {
        "id": "2KyNhagHwfar"
      },
      "source": [
        "loss, accuracy = model.evaluate(validation_dataset)\n",
        "print('Validation accuracy :', accuracy)"
      ],
      "execution_count": null,
      "outputs": []
    },
    {
      "cell_type": "code",
      "metadata": {
        "id": "RUNoQNgtfNgt"
      },
      "source": [
        "#Retrieve a batch of images from the test set\n",
        "image_batch, label_batch = validation_dataset.as_numpy_iterator().next()\n",
        "predictions = model.predict_on_batch(image_batch)\n",
        "\n",
        "predicted_class = np.argmax(predictions, axis=-1)\n",
        "\n",
        "\n",
        "print('Predictions:\\n', predicted_class)\n",
        "print('Labels:\\n', label_batch)\n",
        "\n",
        "plt.figure(figsize=(10, 10))\n",
        "for i in range(9):\n",
        "  ax = plt.subplot(3, 3, i + 1)\n",
        "  plt.imshow(image_batch[i].astype(\"uint8\"))\n",
        "  plt.title(class_names[predicted_class[i]])\n",
        "  plt.axis(\"off\")"
      ],
      "execution_count": null,
      "outputs": []
    },
    {
      "cell_type": "code",
      "metadata": {
        "id": "0mYFKm3yxLNR"
      },
      "source": [
        "predictions = model.predict(test_dataset)\n",
        "\n",
        "predicted_class = np.argmax(predictions, axis=-1)\n",
        "\n",
        "\n",
        "print('Predictions:\\n', predicted_class)"
      ],
      "execution_count": null,
      "outputs": []
    },
    {
      "cell_type": "code",
      "metadata": {
        "id": "lh-beiv4sTkE"
      },
      "source": [
        "with open('submission.txt', 'w') as submission_file:\n",
        "  for filename, predicted in zip(test_dataset_filenames, predicted_class):\n",
        "    submission_file.write('{}\\t{}\\n'.format(filename.split('/')[-1], class_names[predicted]))"
      ],
      "execution_count": null,
      "outputs": []
    }
  ]
}